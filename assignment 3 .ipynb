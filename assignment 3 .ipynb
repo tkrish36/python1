{
 "cells": [
  {
   "cell_type": "code",
   "execution_count": 11,
   "id": "ce088d99",
   "metadata": {},
   "outputs": [],
   "source": [
    "import math\n",
    "\n",
    "def calculator(operation, *args):\n",
    "    numbers = []\n",
    "    for arg in args:\n",
    "        if isinstance(arg, (int, float)):\n",
    "            numbers.append(arg)\n",
    "        elif isinstance(arg, list):\n",
    "            numbers.extend(arg)\n",
    "        else:\n",
    "            return \"Invalid argument: {}\".format(arg)\n",
    "    \n",
    "    if operation == \"sum\":\n",
    "        return sum(numbers)\n",
    "    elif operation == \"product\":\n",
    "        result = 1\n",
    "        for number in numbers:\n",
    "            result *= number\n",
    "            return result\n",
    "    elif operation == \"square\":\n",
    "        return list(map(lambda x: x**2, numbers))\n",
    "    elif operation == \"cube\":\n",
    "        return list(map(lambda x: x**3, numbers))\n",
    "    elif operation == \"subtract\":\n",
    "        result = numbers[0]\n",
    "        for number in numbers[1:]:\n",
    "            result -= number\n",
    "            return result\n",
    "    elif operation == \"square_root\":\n",
    "        return [math.sqrt(x) for x in numbers]\n",
    "    elif operation == \"cube_root\":\n",
    "        return [x**(1/3) for x in numbers]\n",
    "    elif operation == \"remainder\":\n",
    "        if len(numbers) != 2:\n",
    "            return \"Invalid number of arguments for remainder operation\"\n",
    "        else:\n",
    "            return numbers[0] % numbers[1]\n",
    "    \n",
    "    else:\n",
    "        return \"Invalid operation\""
   ]
  },
  {
   "cell_type": "code",
   "execution_count": 13,
   "id": "08b30cf3",
   "metadata": {},
   "outputs": [
    {
     "name": "stdout",
     "output_type": "stream",
     "text": [
      "4\n"
     ]
    }
   ],
   "source": [
    "a = calculator('remainder', [4,6])\n",
    "print(a)"
   ]
  },
  {
   "cell_type": "code",
   "execution_count": null,
   "id": "181c7d97",
   "metadata": {},
   "outputs": [],
   "source": []
  }
 ],
 "metadata": {
  "kernelspec": {
   "display_name": "Python 3 (ipykernel)",
   "language": "python",
   "name": "python3"
  },
  "language_info": {
   "codemirror_mode": {
    "name": "ipython",
    "version": 3
   },
   "file_extension": ".py",
   "mimetype": "text/x-python",
   "name": "python",
   "nbconvert_exporter": "python",
   "pygments_lexer": "ipython3",
   "version": "3.9.13"
  }
 },
 "nbformat": 4,
 "nbformat_minor": 5
}
